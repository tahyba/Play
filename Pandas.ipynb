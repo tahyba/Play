{
 "metadata": {
  "language_info": {
   "codemirror_mode": {
    "name": "ipython",
    "version": 3
   },
   "file_extension": ".py",
   "mimetype": "text/x-python",
   "name": "python",
   "nbconvert_exporter": "python",
   "pygments_lexer": "ipython3",
   "version": "3.9.1"
  },
  "orig_nbformat": 2,
  "kernelspec": {
   "name": "python391jvsc74a57bd0ac59ebe37160ed0dfa835113d9b8498d9f09ceb179beaac4002f036b9467c963",
   "display_name": "Python 3.9.1 64-bit"
  },
  "metadata": {
   "interpreter": {
    "hash": "ac59ebe37160ed0dfa835113d9b8498d9f09ceb179beaac4002f036b9467c963"
   }
  }
 },
 "nbformat": 4,
 "nbformat_minor": 2,
 "cells": [
  {
   "cell_type": "code",
   "execution_count": null,
   "metadata": {},
   "outputs": [],
   "source": [
    "#1.How many rows and columns are there in your file?\n",
    "\n",
    "import pandas as pd\n",
    "import numpy as np\n",
    "\n",
    "data = pd.read_csv(\"Travel.csv\")\n",
    "\n",
    "print (data)\n",
    "\n",
    "data.shape\n",
    "\n",
    "# following cant locate CSV, so outputs dont work but do the theory make sense?\n"
   ]
  },
  {
   "cell_type": "code",
   "execution_count": null,
   "metadata": {},
   "outputs": [],
   "source": [
    " # 2. Print row 3-8 ( using iloc/loc)\n",
    "\n",
    " import Pandas as pd\n",
    "\n",
    "data = pd.read_csv(\"Travel.csv\")\n",
    "\n",
    "print (data.iloc [2:8])\n"
   ]
  },
  {
   "cell_type": "code",
   "execution_count": null,
   "metadata": {},
   "outputs": [],
   "source": [
    "#3.Find the mean number of all-inclusive hotels across all destinations.\n",
    "\n",
    "import Pandas as pd\n",
    "\n",
    "data = pd.read_csv(\"Travel.csv\")\n",
    "\n",
    "data [\"Amount of Inclusive hotels\"].mean()"
   ]
  },
  {
   "cell_type": "code",
   "execution_count": null,
   "metadata": {},
   "outputs": [],
   "source": [
    "#4.Find the lowest scoring destination.\n",
    "\n",
    "import Pandas as pd\n",
    "\n",
    "data = pd.read_csv(\"Travel.csv\")\n",
    "\n",
    "Lowest = df.min ([\"Destination\"])\n",
    "\n",
    "print (Lowest)"
   ]
  },
  {
   "cell_type": "code",
   "execution_count": null,
   "metadata": {},
   "outputs": [],
   "source": [
    "#5.Find the highest scoring destination.\n",
    "\n",
    "import Pandas as pd\n",
    "\n",
    "data = pd.read_csv(\"Travel.csv\")\n",
    "\n",
    "Highest = df.max ([\"Destination\"])\n",
    "\n",
    "print (Highest)\n",
    "\n"
   ]
  },
  {
   "cell_type": "code",
   "execution_count": null,
   "metadata": {},
   "outputs": [],
   "source": [
    "# 6.Find all the destinations where there are more than 9 all-inclusive hotels.\n",
    "# 7.Filter the data by score above 8. \n",
    "\n",
    "import Pandas as pd\n",
    "\n",
    "data = pd.read_csv(\"Travel.csv\")\n",
    "\n",
    "myfilter = data [\"Amount of Inclusive hotels \"] < 9\n",
    "\n",
    "myfilter \n",
    "\n",
    "# Not sure how to print off destinations name "
   ]
  },
  {
   "cell_type": "code",
   "execution_count": null,
   "metadata": {},
   "outputs": [],
   "source": [
    "#8.Filter the data score below 2 ( I need to know if these destinations should be removed or there is a problem)\n",
    "#9.Is there a correlation between number of all-inclusive hotels and score?\n",
    "#10.Create a data visualisation diagram to show destination and highest scores?"
   ]
  },
  {
   "cell_type": "code",
   "execution_count": null,
   "metadata": {},
   "outputs": [],
   "source": []
  }
 ]
}