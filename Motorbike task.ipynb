{
 "metadata": {
  "language_info": {
   "codemirror_mode": {
    "name": "ipython",
    "version": 3
   },
   "file_extension": ".py",
   "mimetype": "text/x-python",
   "name": "python",
   "nbconvert_exporter": "python",
   "pygments_lexer": "ipython3",
   "version": "3.9.1"
  },
  "orig_nbformat": 2,
  "kernelspec": {
   "name": "python391jvsc74a57bd0ac59ebe37160ed0dfa835113d9b8498d9f09ceb179beaac4002f036b9467c963",
   "display_name": "Python 3.9.1 64-bit"
  },
  "metadata": {
   "interpreter": {
    "hash": "ac59ebe37160ed0dfa835113d9b8498d9f09ceb179beaac4002f036b9467c963"
   }
  }
 },
 "nbformat": 4,
 "nbformat_minor": 2,
 "cells": [
  {
   "source": [
    "def depreciation_procedure ():\n",
    "    Motorbike = int(input('Enter the cost of the vehicle : '))\n",
    "    Intrest = float(input('Enter the interest : '))\n",
    "    Firstyear = int(input('Enter the year of purchase : '))\n",
    "    print('Original Value: ', Motorbike, 'Intrest %: ', Intrest, \"Purchased year: \", Firstyear)\n",
    "\n",
    "\n",
    "Intrest_cal = Motorbike - (Motorbike* (Intrest))\n",
    "Monthlyintrest = Motorbike - Intrest_cal\n",
    "MotorB = Monthlyintrest\n",
    "Year = Firstyear + 1\n",
    "    while MotorB >1000\n",
    "    print('Original Value: ', Motorbike, 'Intrest %: ', Monthlyintrest, \"Purchased year: \", Year)\n",
    "if MotorB < 1000\n",
    "        break\n",
    "\n",
    "def Price_funct(Motorbike, intrest, Firstyear): \n",
    "\n",
    "\n",
    "\n"
   ],
   "cell_type": "code",
   "metadata": {},
   "execution_count": 15,
   "outputs": [
    {
     "output_type": "error",
     "ename": "IndentationError",
     "evalue": "unexpected indent (<ipython-input-15-17281b97dcc4>, line 12)",
     "traceback": [
      "\u001b[1;36m  File \u001b[1;32m\"<ipython-input-15-17281b97dcc4>\"\u001b[1;36m, line \u001b[1;32m12\u001b[0m\n\u001b[1;33m    while MotorB >1000\u001b[0m\n\u001b[1;37m    ^\u001b[0m\n\u001b[1;31mIndentationError\u001b[0m\u001b[1;31m:\u001b[0m unexpected indent\n"
     ]
    }
   ]
  },
  {
   "source": [
    "def Price_funct(Motorbike, intrest, Firstyear): \n",
    "    Motorbike = M_input\n",
    "    Intrest = I_input\n",
    "    Firstyear = F_input\n",
    "    while MotorB > 1000:\n",
    "        Intrest_cal = MotorB - (MotorB* (Depreciation))\n",
    "        Monthlyintrest = MotorB - Intrest_cal\n",
    "        MotorB = Monthlyintrest\n",
    "        Year = Year + 1\n",
    "        if MotorB > 1000\n",
    "   \n",
    "\n",
    "Output ='The yearly impact of intrest: ',Intrest_cal , ' with a monthly depreciation of: ',Monthlyintrest , ' in', Year\n",
    "\n",
    "return Output\n",
    "            \n",
    "\n",
    "\n"
   ],
   "cell_type": "code",
   "metadata": {},
   "execution_count": 16,
   "outputs": [
    {
     "output_type": "error",
     "ename": "SyntaxError",
     "evalue": "invalid syntax (<ipython-input-16-a8bc1cbdbc8a>, line 10)",
     "traceback": [
      "\u001b[1;36m  File \u001b[1;32m\"<ipython-input-16-a8bc1cbdbc8a>\"\u001b[1;36m, line \u001b[1;32m10\u001b[0m\n\u001b[1;33m    if MotorB > 1000\u001b[0m\n\u001b[1;37m                    ^\u001b[0m\n\u001b[1;31mSyntaxError\u001b[0m\u001b[1;31m:\u001b[0m invalid syntax\n"
     ]
    }
   ]
  },
  {
   "cell_type": "code",
   "execution_count": null,
   "metadata": {},
   "outputs": [],
   "source": []
  },
  {
   "cell_type": "code",
   "execution_count": null,
   "metadata": {},
   "outputs": [],
   "source": []
  }
 ]
}