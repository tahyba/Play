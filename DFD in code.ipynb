{
 "metadata": {
  "language_info": {
   "codemirror_mode": {
    "name": "ipython",
    "version": 3
   },
   "file_extension": ".py",
   "mimetype": "text/x-python",
   "name": "python",
   "nbconvert_exporter": "python",
   "pygments_lexer": "ipython3",
   "version": "3.9.1"
  },
  "orig_nbformat": 2,
  "kernelspec": {
   "name": "python391jvsc74a57bd0ac59ebe37160ed0dfa835113d9b8498d9f09ceb179beaac4002f036b9467c963",
   "display_name": "Python 3.9.1 64-bit"
  },
  "metadata": {
   "interpreter": {
    "hash": "ac59ebe37160ed0dfa835113d9b8498d9f09ceb179beaac4002f036b9467c963"
   }
  }
 },
 "nbformat": 4,
 "nbformat_minor": 2,
 "cells": [
  {
   "cell_type": "code",
   "execution_count": 1,
   "metadata": {},
   "outputs": [],
   "source": [
    "def procedure_1():\n",
    "    user_input = input('Are you ready to order?')\n",
    "    if user_input == 'Yes':\n",
    "        print ('Lets take down your order')\n",
    "    elif user_input == 'No':\n",
    "        print ('Let me know when you are ready')\n",
    "    else:\n",
    "        print ('Please answer with: Yes or No')\n",
    "    "
   ]
  },
  {
   "cell_type": "code",
   "execution_count": 2,
   "metadata": {},
   "outputs": [
    {
     "output_type": "stream",
     "name": "stdout",
     "text": [
      "Please answer with: Yes or No\n"
     ]
    }
   ],
   "source": [
    "procedure_1()"
   ]
  },
  {
   "cell_type": "code",
   "execution_count": 3,
   "metadata": {},
   "outputs": [
    {
     "output_type": "stream",
     "name": "stdout",
     "text": [
      "1 = Hawaiian pizza\n",
      "2 = Ham & Cheese pizza \n",
      "3 = Vegeterian pizza\n",
      "4 = Pepperoni pizza\n",
      "5 = Magherita pizza\n",
      "You have ordered a Magherita pizza, £8.00\n",
      "6 = Fries\n",
      "7 = Wedges\n",
      "8 = Coleslaw\n",
      "9 = no sides\n",
      "With Wedges\n",
      "10 = Water\n",
      "11 = Soda\n",
      "12 = no Drink\n",
      "and water\n"
     ]
    }
   ],
   "source": [
    "\n",
    "  \n",
    "print('1 = Hawaiian pizza')\n",
    "print('2 = Ham & Cheese pizza ')\n",
    "print('3 = Vegeterian pizza')\n",
    "print('4 = Pepperoni pizza')\n",
    "print('5 = Magherita pizza')\n",
    "\n",
    "MainOption = int(input ('Select between pizza options 1-5 to order:'))\n",
    "if MainOption == 1:\n",
    "    print ( 'You have ordered a Hawaiian pizza, £7.50')\n",
    "    MainOption = 'Hawaiian Pizza'\n",
    "elif MainOption == 2:\n",
    "    print ( 'You have ordered a Ham & Cheese pizza, £9.00')\n",
    "    MainOption = 'Ham & Cheese pizza'\n",
    "elif MainOption == 3:\n",
    "    print ( 'You have ordered a Vegeterian pizza, £8.50')\n",
    "    MainOption = 'Vegeterian pizza'\n",
    "elif MainOption == 4:\n",
    "    print ( 'You have ordered a Pepperoni pizza, £7.50')\n",
    "    MainOption = 'Pepperoni pizza'\n",
    "elif MainOption == 5:\n",
    "    print ( 'You have ordered a Magherita pizza, £8.00')\n",
    "    MainOption = 'Magherita pizza'\n",
    "else:\n",
    "    print ( 'Sorry input not recognised, please choose between 1-5 to order')\n",
    "\n",
    "\n",
    "print('6 = Fries')\n",
    "print('7 = Wedges')\n",
    "print('8 = Coleslaw')\n",
    "print('9 = no sides')\n",
    "\n",
    "SideOption = int (input ('Select between side options 6-9, to add to order:'))\n",
    "if SideOption == 6:\n",
    "    print ( 'With Fries')\n",
    "    SideOption = 'Fries'\n",
    "elif SideOption == 7:\n",
    "    print ( 'With Wedges')\n",
    "    SideOption = 'Wedges'\n",
    "elif SideOption == 8:\n",
    "    print ( 'With Coleslaw')\n",
    "    SideOption = 'Coleslaw'\n",
    "elif SideOption == 9:\n",
    "    print ( 'With no sides')\n",
    "    SideOption = 'With no sides'\n",
    "else:\n",
    "    print ('Sorry input not recognised, please choose between 6-9 to order:')\n",
    "        \n",
    "\n",
    "print('10 = Water')\n",
    "print('11 = Soda')\n",
    "print('12 = no Drink')\n",
    "\n",
    "DrinkOption = int (input ('Select between drink options 10-12, to add to order:'))   \n",
    "if DrinkOption == 10:\n",
    "    print ( 'and water')\n",
    "    DrinkOption = \"water\"\n",
    "elif DrinkOption == 11:\n",
    "    print ( 'and soda')\n",
    "    DrinkOption = \"soda\"\n",
    "elif DrinkOption == 12:\n",
    "    print ( 'and no drink')\n",
    "    DrinkOption = \"no drink\"\n",
    "else:\n",
    "    print ('Sorry input not recognised, please choose between 10-12 to order:')\n",
    "\n"
   ]
  },
  {
   "cell_type": "code",
   "execution_count": 4,
   "metadata": {},
   "outputs": [
    {
     "output_type": "error",
     "ename": "SyntaxError",
     "evalue": "invalid syntax (<ipython-input-4-4d5c4b53e24d>, line 3)",
     "traceback": [
      "\u001b[1;36m  File \u001b[1;32m\"<ipython-input-4-4d5c4b53e24d>\"\u001b[1;36m, line \u001b[1;32m3\u001b[0m\n\u001b[1;33m    Output = 'Hello, You ordered a '  MainOption  'with '  SideOption , 'and '  DrinkOption , 'thank you so much '\u001b[0m\n\u001b[1;37m                                      ^\u001b[0m\n\u001b[1;31mSyntaxError\u001b[0m\u001b[1;31m:\u001b[0m invalid syntax\n"
     ]
    }
   ],
   "source": [
    "def procedure_2(MainOption, SideOption, DrinkOption):   \n",
    "\n",
    "    Output = 'Hello, You ordered a '  MainOption  'with '  SideOption , 'and '  DrinkOption , 'thank you so much ' \n",
    "\n",
    "    return Output"
   ]
  },
  {
   "cell_type": "code",
   "execution_count": 26,
   "metadata": {},
   "outputs": [
    {
     "output_type": "execute_result",
     "data": {
      "text/plain": [
       "('Hello, You ordered a',\n",
       " 'Hawaiian Pizza',\n",
       " 'with',\n",
       " 'Wedges',\n",
       " 'and',\n",
       " 'soda',\n",
       " 'thank you so much')"
      ]
     },
     "metadata": {},
     "execution_count": 26
    }
   ],
   "source": [
    "procedure_2(MainOption, SideOption, DrinkOption)"
   ]
  },
  {
   "source": [
    "procedure_2(MainOption, SideOption, DrinkOption)\n"
   ],
   "cell_type": "code",
   "metadata": {},
   "execution_count": null,
   "outputs": []
  }
 ]
}