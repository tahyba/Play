{
 "metadata": {
  "language_info": {
   "codemirror_mode": {
    "name": "ipython",
    "version": 3
   },
   "file_extension": ".py",
   "mimetype": "text/x-python",
   "name": "python",
   "nbconvert_exporter": "python",
   "pygments_lexer": "ipython3",
   "version": "3.9.1"
  },
  "orig_nbformat": 2,
  "kernelspec": {
   "name": "python391jvsc74a57bd0ac59ebe37160ed0dfa835113d9b8498d9f09ceb179beaac4002f036b9467c963",
   "display_name": "Python 3.9.1 64-bit"
  },
  "metadata": {
   "interpreter": {
    "hash": "ac59ebe37160ed0dfa835113d9b8498d9f09ceb179beaac4002f036b9467c963"
   }
  }
 },
 "nbformat": 4,
 "nbformat_minor": 2,
 "cells": [
  {
   "source": [
    "# Task 1: Write a program that allows you to enter 4 numbers and stores them in a file called “Numbers”.\n",
    "\n",
    "my_file = open(\"Numbers.txt\", \"w\")\n",
    "\n",
    "my_file.close()"
   ],
   "cell_type": "code",
   "metadata": {},
   "execution_count": null,
   "outputs": []
  },
  {
   "cell_type": "code",
   "execution_count": null,
   "metadata": {},
   "outputs": [],
   "source": [
    "with open(\"Numbers.txt\",\"w\") as myfile\n",
    "\n",
    "Numbers1 = float(input(\"Please enter any numbers: \"))\n",
    "Numbers2 = float(input(\"Please enter any numbers: \"))\n",
    "Numbers3 = float(input(\"Please enter any numbers: \"))\n",
    "Numbers4 = float(input(\"Please enter any numbers: \"))\n",
    "\n",
    "myfile = open(\"Numbers.txt\",\"w\")\n",
    "myfile.write(f\"{Numbers1} {Numbers2} {Numbers3} {Numbers4}\") \n",
    "myfile.close()\n",
    "\n",
    "\n",
    "#Im not sure if my data was properly stored in the file to read?\n"
   ]
  },
  {
   "cell_type": "code",
   "execution_count": null,
   "metadata": {},
   "outputs": [],
   "source": [
    "myfile = open(\"Numbers.txt\", \"a\")\n",
    "\n",
    "myfile.write(\"Data is gone\")\n",
    "\n",
    "myfile.close()\n"
   ]
  },
  {
   "cell_type": "code",
   "execution_count": 14,
   "metadata": {},
   "outputs": [
    {
     "output_type": "stream",
     "name": "stdout",
     "text": [
      "Your calculated grade is : A\n"
     ]
    }
   ],
   "source": [
    "# Task 2 : Write a program to ask a student for their percentage mark and convert this to a grade.\n",
    "# The conversion will be done in a function called mark_grade\n",
    "# Ask the user for their target grade and print this with their mark\n",
    "# •If their target grade > exam grade display a suitable message\n",
    "# •If their target grade = exam grade display a suitable message\n",
    "# •If their target grade < exam grade display a suitable message\n",
    "\n",
    "\n",
    "mark_grade = float(input (\"Please enter your percentage mark: \"))\n",
    "if mark_grade >= 80:\n",
    "    grade = \"A\"\n",
    "elif mark_grade >=70:\n",
    "    grade = \"B\"\n",
    "elif mark_grade >=60:\n",
    "    grade = \"C\"\n",
    "elif mark_grade >=50:\n",
    "    grade = \"D\"\n",
    "elif mark_grade >=40:\n",
    "    grade = \"E\"\n",
    "elif mark_grade >=30:\n",
    "    grade = \"F\"\n",
    "elif mark_grade>=20:\n",
    "    grade= \"G\"\n",
    "elif mark_grade >=10:\n",
    "    grade= \"U\"\n",
    "\n",
    "print(\"Your calculated grade is :\",grade)\n",
    "\n"
   ]
  },
  {
   "cell_type": "code",
   "execution_count": 18,
   "metadata": {},
   "outputs": [
    {
     "output_type": "stream",
     "name": "stdout",
     "text": [
      "20.0 %\n"
     ]
    }
   ],
   "source": [
    "# Second attempt\n",
    "\n",
    "import numpy as np\n",
    "\n",
    "marks= float(input (\"Please enter your percentage mark: \"))\n",
    "Percentage = (marks/100)*100\n",
    "\n",
    "print (Percentage, \"%\")\n",
    "\n",
    "gradelist = [1:100]\n",
    "\n",
    "#N Not sure if it was meant to be made using a list?"
   ]
  },
  {
   "cell_type": "code",
   "execution_count": null,
   "metadata": {},
   "outputs": [],
   "source": []
  }
 ]
}