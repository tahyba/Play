{
 "metadata": {
  "language_info": {
   "codemirror_mode": {
    "name": "ipython",
    "version": 3
   },
   "file_extension": ".py",
   "mimetype": "text/x-python",
   "name": "python",
   "nbconvert_exporter": "python",
   "pygments_lexer": "ipython3",
   "version": "3.9.1"
  },
  "orig_nbformat": 2,
  "kernelspec": {
   "name": "python391jvsc74a57bd0ac59ebe37160ed0dfa835113d9b8498d9f09ceb179beaac4002f036b9467c963",
   "display_name": "Python 3.9.1 64-bit"
  },
  "metadata": {
   "interpreter": {
    "hash": "ac59ebe37160ed0dfa835113d9b8498d9f09ceb179beaac4002f036b9467c963"
   }
  }
 },
 "nbformat": 4,
 "nbformat_minor": 2,
 "cells": [
  {
   "source": [
    "# Write a program that allows you to enter 4 numbers and stores them in a file called “Numbers”.\n",
    "\n",
    "my_file = open(\"Numbers.txt\", \"w\")\n",
    "\n",
    "my_file.close()"
   ],
   "cell_type": "code",
   "metadata": {},
   "execution_count": null,
   "outputs": []
  },
  {
   "cell_type": "code",
   "execution_count": null,
   "metadata": {},
   "outputs": [],
   "source": [
    "with open(\"Numbers.txt\",\"w\") as myfile\n",
    "\n",
    "Numbers1 = float(input(\"Please enter any numbers: \"))\n",
    "Numbers2 = float(input(\"Please enter any numbers: \"))\n",
    "Numbers3 = float(input(\"Please enter any numbers: \"))\n",
    "Numbers4 = float(input(\"Please enter any numbers: \"))\n",
    "\n",
    "myfile = open(\"Numbers.txt\",\"w\")\n",
    "myfile.write(f\"{Numbers1} {Numbers2} {Numbers3} {Numbers4}\") \n",
    "myfile.close()\n",
    "\n",
    "\n",
    "#Im not sure if my data was properly stored in the file to read?\n"
   ]
  },
  {
   "cell_type": "code",
   "execution_count": null,
   "metadata": {},
   "outputs": [],
   "source": [
    "myfile = open(\"Numbers.txt\", \"a\")\n",
    "\n",
    "myfile.write(\"Data is gone\")\n",
    "\n",
    "myfile.close()\n"
   ]
  },
  {
   "cell_type": "code",
   "execution_count": null,
   "metadata": {},
   "outputs": [],
   "source": []
  }
 ]
}